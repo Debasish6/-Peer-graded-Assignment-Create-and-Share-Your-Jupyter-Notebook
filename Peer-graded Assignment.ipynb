{
    "cells": [
        {
            "metadata": {
                "collapsed": true
            },
            "cell_type": "markdown",
            "source": "<H1> My Jupyter Notebook on IBM Watson Studio</H1>"
        },
        {
            "metadata": {},
            "cell_type": "markdown",
            "source": "# Debasish Ghosh\nStudent"
        },
        {
            "metadata": {},
            "cell_type": "markdown",
            "source": "<i>I am interested in data science because I enjoy manipulating data and problem solve using ML models</i>"
        },
        {
            "metadata": {},
            "cell_type": "markdown",
            "source": "<h3>The code below  will display Hello World</h3>"
        },
        {
            "metadata": {},
            "cell_type": "code",
            "source": "print(\"Hello World!\")",
            "execution_count": 1,
            "outputs": [
                {
                    "output_type": "stream",
                    "text": "Hello World!\n",
                    "name": "stdout"
                }
            ]
        },
        {
            "metadata": {},
            "cell_type": "markdown",
            "source": "<ul>\n  <li>Coffee</li>\n  <li>Tea</li>\n  <li>Milk</li>\n</ul>\n<hr>\n<ol>\n  <li>Coffee</li>\n  <li>Tea</li>\n  <li>Milk</li>\n</ol>\n<hr>\n\n<table>\n  <tr>\n    <th>Tables</th>\n    <th>Are</th>\n    <th>Cool</th>\n  </tr>\n    <tr>\n    <td>col 3 is</td>\n    <td>right-aligned</td>\n    <td>$1600</td>\n    </tr>\n</table>"
        },
        {
            "metadata": {},
            "cell_type": "code",
            "source": "",
            "execution_count": null,
            "outputs": []
        }
    ],
    "metadata": {
        "kernelspec": {
            "name": "python3",
            "display_name": "Python 3.10",
            "language": "python"
        },
        "language_info": {
            "name": "python",
            "version": "3.10.6",
            "mimetype": "text/x-python",
            "codemirror_mode": {
                "name": "ipython",
                "version": 3
            },
            "pygments_lexer": "ipython3",
            "nbconvert_exporter": "python",
            "file_extension": ".py"
        }
    },
    "nbformat": 4,
    "nbformat_minor": 1
}